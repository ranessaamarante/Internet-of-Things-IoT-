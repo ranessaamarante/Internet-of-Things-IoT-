{
 "cells": [
  {
   "cell_type": "markdown",
   "id": "a1f5772f",
   "metadata": {},
   "source": [
    "# Parte 1"
   ]
  },
  {
   "cell_type": "markdown",
   "id": "eebd5323",
   "metadata": {},
   "source": [
    "## Carregando um conjunto de dados de exemplo"
   ]
  },
  {
   "cell_type": "code",
   "execution_count": 186,
   "id": "60c8fcf4",
   "metadata": {},
   "outputs": [],
   "source": [
    "# Importando o módulo datasets da biblioteca scikit-learn\n",
    "from sklearn import datasets"
   ]
  },
  {
   "cell_type": "code",
   "execution_count": 187,
   "id": "20350dad",
   "metadata": {},
   "outputs": [],
   "source": [
    "# Carregando o conjunto de dados Iris, um conjunto clássico de dados para aprendizado de máquina,\n",
    "# que contém informações sobre medidas de comprimento e largura das sépalas e pétalas de três espécies de flores Iris.\n",
    "iris = datasets.load_iris()\n",
    "\n",
    "# Carregando o conjunto de dados Digits, que contém imagens em escala de cinza de dígitos manuscritos de 0 a 9,\n",
    "# frequentemente usado para tarefas de reconhecimento de dígitos.\n",
    "digits = datasets.load_digits()"
   ]
  },
  {
   "cell_type": "code",
   "execution_count": 188,
   "id": "c99ebe26",
   "metadata": {},
   "outputs": [
    {
     "name": "stdout",
     "output_type": "stream",
     "text": [
      "[[ 0.  0.  5. ...  0.  0.  0.]\n",
      " [ 0.  0.  0. ... 10.  0.  0.]\n",
      " [ 0.  0.  0. ... 16.  9.  0.]\n",
      " ...\n",
      " [ 0.  0.  1. ...  6.  0.  0.]\n",
      " [ 0.  0.  2. ... 12.  0.  0.]\n",
      " [ 0.  0. 10. ... 12.  1.  0.]]\n"
     ]
    }
   ],
   "source": [
    "# digits.data contém os dados brutos das imagens em escala de cinza de dígitos manuscritos.\n",
    "# Cada linha representa uma imagem e cada coluna representa um pixel da imagem,\n",
    "# onde o valor numérico indica a intensidade da cor (0 representa preto e 255 representa branco).\n",
    "print(digits.data)"
   ]
  },
  {
   "cell_type": "code",
   "execution_count": 189,
   "id": "ba40ace0",
   "metadata": {},
   "outputs": [
    {
     "data": {
      "text/plain": [
       "array([0, 1, 2, ..., 8, 9, 8])"
      ]
     },
     "execution_count": 189,
     "metadata": {},
     "output_type": "execute_result"
    }
   ],
   "source": [
    "# O comando digits.target representa o conjunto de rótulos associados às imagens contidas no conjunto de dados digits.\n",
    "# Cada elemento em digits.target corresponde ao rótulo da classe (ou seja, o dígito que a imagem representa) para a imagem correspondente em digits.data.\n",
    "# Por exemplo, se digits.data[0] representa uma imagem de um dígito \"5\", então digits.target[0] será o rótulo correspondente \"5\".\n",
    "\n",
    "digits.target"
   ]
  },
  {
   "cell_type": "code",
   "execution_count": 190,
   "id": "de55f73b",
   "metadata": {},
   "outputs": [
    {
     "data": {
      "text/plain": [
       "array([[ 0.,  0.,  5., 13.,  9.,  1.,  0.,  0.],\n",
       "       [ 0.,  0., 13., 15., 10., 15.,  5.,  0.],\n",
       "       [ 0.,  3., 15.,  2.,  0., 11.,  8.,  0.],\n",
       "       [ 0.,  4., 12.,  0.,  0.,  8.,  8.,  0.],\n",
       "       [ 0.,  5.,  8.,  0.,  0.,  9.,  8.,  0.],\n",
       "       [ 0.,  4., 11.,  0.,  1., 12.,  7.,  0.],\n",
       "       [ 0.,  2., 14.,  5., 10., 12.,  0.,  0.],\n",
       "       [ 0.,  0.,  6., 13., 10.,  0.,  0.,  0.]])"
      ]
     },
     "execution_count": 190,
     "metadata": {},
     "output_type": "execute_result"
    }
   ],
   "source": [
    "# O comando digits.images[0] acessa a primeira imagem no conjunto de dados digits.\n",
    "# digits.images é uma matriz tridimensional que contém todas as imagens em escala de cinza de dígitos manuscritos.\n",
    "# digits.images[0] retorna a primeira imagem, representada como uma matriz bidimensional onde cada elemento da matriz representa a intensidade do pixel naquela posição da imagem.\n",
    "# Por exemplo, digits.images[0][0][0] representa a intensidade do pixel no canto superior esquerdo da primeira imagem.\n",
    "\n",
    "digits.images[0]"
   ]
  },
  {
   "cell_type": "code",
   "execution_count": null,
   "id": "6521bbbf",
   "metadata": {},
   "outputs": [],
   "source": []
  },
  {
   "cell_type": "markdown",
   "id": "0f62a388",
   "metadata": {},
   "source": [
    "# Aprendendo e prevendo"
   ]
  },
  {
   "cell_type": "code",
   "execution_count": 191,
   "id": "d3349ceb",
   "metadata": {},
   "outputs": [],
   "source": [
    "# Importando o módulo svm do pacote scikit-learn, que contém implementações de algoritmos de Support Vector Machine (SVM).\n",
    "from sklearn import svm\n",
    "\n",
    "# Criando uma instância do classificador SVM (Support Vector Classifier) com parâmetros específicos.\n",
    "# O parâmetro gamma define o coeficiente de kernel para 'rbf' (radial basis function) kernel.\n",
    "# O parâmetro C define o parâmetro de regularização, que controla a compensação entre classificação incorreta de pontos de treinamento e a maximização da margem.\n",
    "clf = svm.SVC(gamma=0.001, C=100.)\n"
   ]
  },
  {
   "cell_type": "code",
   "execution_count": 192,
   "id": "875091ae",
   "metadata": {},
   "outputs": [
    {
     "data": {
      "text/html": [
       "<style>#sk-container-id-7 {color: black;}#sk-container-id-7 pre{padding: 0;}#sk-container-id-7 div.sk-toggleable {background-color: white;}#sk-container-id-7 label.sk-toggleable__label {cursor: pointer;display: block;width: 100%;margin-bottom: 0;padding: 0.3em;box-sizing: border-box;text-align: center;}#sk-container-id-7 label.sk-toggleable__label-arrow:before {content: \"▸\";float: left;margin-right: 0.25em;color: #696969;}#sk-container-id-7 label.sk-toggleable__label-arrow:hover:before {color: black;}#sk-container-id-7 div.sk-estimator:hover label.sk-toggleable__label-arrow:before {color: black;}#sk-container-id-7 div.sk-toggleable__content {max-height: 0;max-width: 0;overflow: hidden;text-align: left;background-color: #f0f8ff;}#sk-container-id-7 div.sk-toggleable__content pre {margin: 0.2em;color: black;border-radius: 0.25em;background-color: #f0f8ff;}#sk-container-id-7 input.sk-toggleable__control:checked~div.sk-toggleable__content {max-height: 200px;max-width: 100%;overflow: auto;}#sk-container-id-7 input.sk-toggleable__control:checked~label.sk-toggleable__label-arrow:before {content: \"▾\";}#sk-container-id-7 div.sk-estimator input.sk-toggleable__control:checked~label.sk-toggleable__label {background-color: #d4ebff;}#sk-container-id-7 div.sk-label input.sk-toggleable__control:checked~label.sk-toggleable__label {background-color: #d4ebff;}#sk-container-id-7 input.sk-hidden--visually {border: 0;clip: rect(1px 1px 1px 1px);clip: rect(1px, 1px, 1px, 1px);height: 1px;margin: -1px;overflow: hidden;padding: 0;position: absolute;width: 1px;}#sk-container-id-7 div.sk-estimator {font-family: monospace;background-color: #f0f8ff;border: 1px dotted black;border-radius: 0.25em;box-sizing: border-box;margin-bottom: 0.5em;}#sk-container-id-7 div.sk-estimator:hover {background-color: #d4ebff;}#sk-container-id-7 div.sk-parallel-item::after {content: \"\";width: 100%;border-bottom: 1px solid gray;flex-grow: 1;}#sk-container-id-7 div.sk-label:hover label.sk-toggleable__label {background-color: #d4ebff;}#sk-container-id-7 div.sk-serial::before {content: \"\";position: absolute;border-left: 1px solid gray;box-sizing: border-box;top: 0;bottom: 0;left: 50%;z-index: 0;}#sk-container-id-7 div.sk-serial {display: flex;flex-direction: column;align-items: center;background-color: white;padding-right: 0.2em;padding-left: 0.2em;position: relative;}#sk-container-id-7 div.sk-item {position: relative;z-index: 1;}#sk-container-id-7 div.sk-parallel {display: flex;align-items: stretch;justify-content: center;background-color: white;position: relative;}#sk-container-id-7 div.sk-item::before, #sk-container-id-7 div.sk-parallel-item::before {content: \"\";position: absolute;border-left: 1px solid gray;box-sizing: border-box;top: 0;bottom: 0;left: 50%;z-index: -1;}#sk-container-id-7 div.sk-parallel-item {display: flex;flex-direction: column;z-index: 1;position: relative;background-color: white;}#sk-container-id-7 div.sk-parallel-item:first-child::after {align-self: flex-end;width: 50%;}#sk-container-id-7 div.sk-parallel-item:last-child::after {align-self: flex-start;width: 50%;}#sk-container-id-7 div.sk-parallel-item:only-child::after {width: 0;}#sk-container-id-7 div.sk-dashed-wrapped {border: 1px dashed gray;margin: 0 0.4em 0.5em 0.4em;box-sizing: border-box;padding-bottom: 0.4em;background-color: white;}#sk-container-id-7 div.sk-label label {font-family: monospace;font-weight: bold;display: inline-block;line-height: 1.2em;}#sk-container-id-7 div.sk-label-container {text-align: center;}#sk-container-id-7 div.sk-container {/* jupyter's `normalize.less` sets `[hidden] { display: none; }` but bootstrap.min.css set `[hidden] { display: none !important; }` so we also need the `!important` here to be able to override the default hidden behavior on the sphinx rendered scikit-learn.org. See: https://github.com/scikit-learn/scikit-learn/issues/21755 */display: inline-block !important;position: relative;}#sk-container-id-7 div.sk-text-repr-fallback {display: none;}</style><div id=\"sk-container-id-7\" class=\"sk-top-container\"><div class=\"sk-text-repr-fallback\"><pre>SVC(C=100.0, gamma=0.001)</pre><b>In a Jupyter environment, please rerun this cell to show the HTML representation or trust the notebook. <br />On GitHub, the HTML representation is unable to render, please try loading this page with nbviewer.org.</b></div><div class=\"sk-container\" hidden><div class=\"sk-item\"><div class=\"sk-estimator sk-toggleable\"><input class=\"sk-toggleable__control sk-hidden--visually\" id=\"sk-estimator-id-7\" type=\"checkbox\" checked><label for=\"sk-estimator-id-7\" class=\"sk-toggleable__label sk-toggleable__label-arrow\">SVC</label><div class=\"sk-toggleable__content\"><pre>SVC(C=100.0, gamma=0.001)</pre></div></div></div></div></div>"
      ],
      "text/plain": [
       "SVC(C=100.0, gamma=0.001)"
      ]
     },
     "execution_count": 192,
     "metadata": {},
     "output_type": "execute_result"
    }
   ],
   "source": [
    "# O método fit() é usado para treinar o classificador com os dados de treinamento.\n",
    "# digits.data[:-1] representa todos os dados de entrada (imagens de dígitos) exceto o último, enquanto digits.target[:-1] representa todos os rótulos correspondentes.\n",
    "# Portanto, estouu usando todos os dados, exceto o último, para treinar o classificador.\n",
    "# Este método ajusta o modelo aos dados de treinamento, aprendendo os padrões nos dados para fazer previsões.\n",
    "\n",
    "clf.fit(digits.data[:-1], digits.target[:-1])"
   ]
  },
  {
   "cell_type": "code",
   "execution_count": 193,
   "id": "1644af79",
   "metadata": {},
   "outputs": [
    {
     "data": {
      "text/plain": [
       "array([8])"
      ]
     },
     "execution_count": 193,
     "metadata": {},
     "output_type": "execute_result"
    }
   ],
   "source": [
    "# O método predict() é usado para fazer previsões com o classificador treinado.\n",
    "# digits.data[-1:] representa o último conjunto de dados de entrada (imagem de dígito) no conjunto de dados digits.\n",
    "# Estou passando este conjunto de dados para o método predict() para fazer uma previsão.\n",
    "# Este método retorna a previsão feita pelo classificador para o conjunto de dados de entrada fornecido.\n",
    "\n",
    "clf.predict(digits.data[-1:])"
   ]
  },
  {
   "cell_type": "code",
   "execution_count": null,
   "id": "c8174e5b",
   "metadata": {},
   "outputs": [],
   "source": []
  },
  {
   "cell_type": "markdown",
   "id": "4a519c43",
   "metadata": {},
   "source": [
    "## Type Casting\n"
   ]
  },
  {
   "cell_type": "code",
   "execution_count": 194,
   "id": "33019b6b",
   "metadata": {},
   "outputs": [],
   "source": [
    "# Importando o módulo numpy como np.\n",
    "import numpy as np\n",
    "\n",
    "# Importando o módulo kernel_approximation do pacote scikit-learn, que contém métodos para aproximação do kernel.\n",
    "from sklearn import kernel_approximation\n",
    "\n",
    "# Definindo uma semente aleatória para geração de números pseudoaleatórios.\n",
    "rng = np.random.RandomState(0)\n",
    "\n",
    "# Criando uma matriz 10x2000 de números aleatórios entre 0 e 1.\n",
    "X = rng.rand(10, 2000)\n",
    "\n",
    "# Convertendo a matriz para o tipo de dados 'float32'.\n",
    "X = np.array(X, dtype='float32')"
   ]
  },
  {
   "cell_type": "code",
   "execution_count": 195,
   "id": "9df3c07b",
   "metadata": {},
   "outputs": [
    {
     "data": {
      "text/plain": [
       "dtype('float32')"
      ]
     },
     "execution_count": 195,
     "metadata": {},
     "output_type": "execute_result"
    }
   ],
   "source": [
    "# Verificando o tipo de dados da matriz X.\n",
    "X.dtype"
   ]
  },
  {
   "cell_type": "code",
   "execution_count": 196,
   "id": "d7dfbbea",
   "metadata": {},
   "outputs": [],
   "source": [
    "# Criando uma instância do RBFSampler, que é um método para aproximação de kernel baseado em características aleatórias (RBF = Radial Basis Function).\n",
    "transformer = kernel_approximation.RBFSampler()\n",
    "\n",
    "# Aplicando a transformação do RBFSampler aos dados de entrada X e retornando os dados transformados.\n",
    "X_new = transformer.fit_transform(X)"
   ]
  },
  {
   "cell_type": "code",
   "execution_count": 197,
   "id": "0783133c",
   "metadata": {},
   "outputs": [
    {
     "data": {
      "text/plain": [
       "dtype('float32')"
      ]
     },
     "execution_count": 197,
     "metadata": {},
     "output_type": "execute_result"
    }
   ],
   "source": [
    "# Verificando o tipo de dados dos novos dados transformados.\n",
    "X_new.dtype"
   ]
  },
  {
   "cell_type": "code",
   "execution_count": null,
   "id": "4e463154",
   "metadata": {},
   "outputs": [],
   "source": []
  },
  {
   "cell_type": "code",
   "execution_count": 198,
   "id": "7f0ca6db",
   "metadata": {},
   "outputs": [
    {
     "data": {
      "text/plain": [
       "[0, 0, 0]"
      ]
     },
     "execution_count": 198,
     "metadata": {},
     "output_type": "execute_result"
    }
   ],
   "source": [
    "from sklearn import datasets\n",
    "\n",
    "# Importando a classe SVC (Support Vector Classifier) do módulo svm da biblioteca scikit-learn, que implementa o algoritmo de Support Vector Machine (SVM).\n",
    "from sklearn.svm import SVC\n",
    "\n",
    "iris = datasets.load_iris()\n",
    "\n",
    "# Criando uma instância do classificador SVC (Support Vector Classifier).\n",
    "clf = SVC()\n",
    "\n",
    "# Treinando o classificador com os dados de entrada (iris.data) e os rótulos correspondentes (iris.target) do conjunto de dados Iris.\n",
    "clf.fit(iris.data, iris.target)\n",
    "\n",
    "# Fazendo previsões para as três primeiras amostras do conjunto de dados Iris e convertendo os resultados em uma lista.\n",
    "list(clf.predict(iris.data[:3]))"
   ]
  },
  {
   "cell_type": "code",
   "execution_count": 199,
   "id": "c6892117",
   "metadata": {},
   "outputs": [
    {
     "data": {
      "text/plain": [
       "['setosa', 'setosa', 'setosa']"
      ]
     },
     "execution_count": 199,
     "metadata": {},
     "output_type": "execute_result"
    }
   ],
   "source": [
    "# Treinando o classificador com os dados de entrada (iris.data) e os nomes das classes (iris.target_names) do conjunto de dados Iris.\n",
    "# Neste caso, os rótulos são os nomes das espécies de flores em vez de números.\n",
    "clf.fit(iris.data, iris.target_names[iris.target])\n",
    "\n",
    "# Fazendo previsões para as três primeiras amostras do conjunto de dados Iris e convertendo os resultados em uma lista.\n",
    "list(clf.predict(iris.data[:3]))\n"
   ]
  },
  {
   "cell_type": "code",
   "execution_count": null,
   "id": "0e045a9a",
   "metadata": {},
   "outputs": [],
   "source": []
  },
  {
   "cell_type": "markdown",
   "id": "861b246f",
   "metadata": {},
   "source": [
    "## Reajustando e atualizando parâmetros"
   ]
  },
  {
   "cell_type": "code",
   "execution_count": 200,
   "id": "8c0eead5",
   "metadata": {},
   "outputs": [
    {
     "data": {
      "text/plain": [
       "array([0, 0, 0, 0, 0])"
      ]
     },
     "execution_count": 200,
     "metadata": {},
     "output_type": "execute_result"
    }
   ],
   "source": [
    "import numpy as np\n",
    "from sklearn.datasets import load_iris\n",
    "from sklearn.svm import SVC\n",
    "\n",
    "# Carregando o conjunto de dados Iris e armazenando os dados de entrada (X) e os rótulos correspondentes (y).\n",
    "X, y = load_iris(return_X_y=True)\n",
    "\n",
    "# Criando uma instância do classificador SVC (Support Vector Classifier).\n",
    "clf = SVC()\n",
    "\n",
    "# Ajustando os parâmetros do classificador para usar o kernel linear e treinando o modelo com os dados de entrada (X) e os rótulos correspondentes (y).\n",
    "clf.set_params(kernel='linear').fit(X, y)\n",
    "\n",
    "# Fazendo previsões para os primeiros cinco exemplos do conjunto de dados Iris usando o modelo treinado com o kernel linear.\n",
    "clf.predict(X[:5])"
   ]
  },
  {
   "cell_type": "code",
   "execution_count": 201,
   "id": "a823c20d",
   "metadata": {},
   "outputs": [
    {
     "data": {
      "text/plain": [
       "array([0, 0, 0, 0, 0])"
      ]
     },
     "execution_count": 201,
     "metadata": {},
     "output_type": "execute_result"
    }
   ],
   "source": [
    "# Ajustando os parâmetros do classificador para usar o kernel RBF (Radial Basis Function) e treinando o modelo com os dados de entrada (X) e os rótulos correspondentes (y).\n",
    "clf.set_params(kernel='rbf').fit(X, y)\n",
    "\n",
    "# Fazendo previsões para os primeiros cinco exemplos do conjunto de dados Iris usando o modelo treinado com o kernel RBF.\n",
    "clf.predict(X[:5])"
   ]
  },
  {
   "cell_type": "code",
   "execution_count": null,
   "id": "0a39f3f2",
   "metadata": {},
   "outputs": [],
   "source": []
  },
  {
   "cell_type": "markdown",
   "id": "304c8db2",
   "metadata": {},
   "source": [
    "## Treinamento multiclasse vs. multirrótulo"
   ]
  },
  {
   "cell_type": "code",
   "execution_count": 202,
   "id": "37feb3db",
   "metadata": {},
   "outputs": [
    {
     "data": {
      "text/plain": [
       "array([0, 0, 1, 1, 2])"
      ]
     },
     "execution_count": 202,
     "metadata": {},
     "output_type": "execute_result"
    }
   ],
   "source": [
    "from sklearn.svm import SVC\n",
    "# Importando a classe OneVsRestClassifier do módulo multiclass da biblioteca scikit-learn, que implementa uma estratégia de classificação multiclasse usando um classificador para cada classe.\n",
    "from sklearn.multiclass import OneVsRestClassifier\n",
    "# Importando a classe LabelBinarizer do módulo preprocessing da biblioteca scikit-learn, que converte rótulos de classe em representações binárias.\n",
    "from sklearn.preprocessing import LabelBinarizer\n",
    "\n",
    "# Definindo os dados de entrada (X) e os rótulos correspondentes (y).\n",
    "X = [[1, 2], [2, 4], [4, 5], [3, 2], [3, 1]]\n",
    "y = [0, 0, 1, 1, 2]\n",
    "\n",
    "# Criando uma instância do classificador OneVsRestClassifier, que usa o classificador SVC como estimador base.\n",
    "# O classificador SVC é ajustado separadamente para cada classe para realizar classificação multiclasse.\n",
    "classif = OneVsRestClassifier(estimator=SVC(random_state=0))\n",
    "\n",
    "# Treinando o classificador com os dados de entrada (X) e os rótulos correspondentes (y), e em seguida fazendo previsões com os mesmos dados.\n",
    "classif.fit(X, y).predict(X)\n"
   ]
  },
  {
   "cell_type": "code",
   "execution_count": 203,
   "id": "b99ccf45",
   "metadata": {},
   "outputs": [
    {
     "data": {
      "text/plain": [
       "array([[1, 0, 0],\n",
       "       [1, 0, 0],\n",
       "       [0, 1, 0],\n",
       "       [0, 0, 0],\n",
       "       [0, 0, 0]])"
      ]
     },
     "execution_count": 203,
     "metadata": {},
     "output_type": "execute_result"
    }
   ],
   "source": [
    "# A classe LabelBinarizer é utilizada para converter os rótulos de classe em representações binárias.\n",
    "# O método fit_transform() ajusta o LabelBinarizer aos rótulos de classe (y) e retorna a representação binária correspondente.\n",
    "y = LabelBinarizer().fit_transform(y)\n",
    "\n",
    "# O classificador é treinado novamente com os dados de entrada (X) e os rótulos binarizados (y).\n",
    "# Uma vez que os rótulos agora estão na forma binária, o classificador está sendo treinado para realizar classificação multirrótulo.\n",
    "# Em seguida, previsões são feitas usando os mesmos dados de entrada.\n",
    "classif.fit(X, y).predict(X)\n"
   ]
  },
  {
   "cell_type": "code",
   "execution_count": 204,
   "id": "f55bda46",
   "metadata": {},
   "outputs": [
    {
     "data": {
      "text/plain": [
       "array([[1, 1, 0, 0, 0],\n",
       "       [1, 0, 1, 0, 0],\n",
       "       [0, 1, 0, 1, 0],\n",
       "       [1, 0, 1, 0, 0],\n",
       "       [1, 0, 1, 0, 0]])"
      ]
     },
     "execution_count": 204,
     "metadata": {},
     "output_type": "execute_result"
    }
   ],
   "source": [
    "# Importando a classe MultiLabelBinarizer do módulo preprocessing da biblioteca scikit-learn, que converte listas de rótulos em representações binárias multirrótulo.\n",
    "from sklearn.preprocessing import MultiLabelBinarizer\n",
    "\n",
    "# Definindo os rótulos de classe em uma lista de listas, onde cada lista contém os rótulos correspondentes a uma amostra.\n",
    "y = [[0, 1], [0, 2], [1, 3], [0, 2, 3], [2, 4]]\n",
    "\n",
    "# A classe MultiLabelBinarizer é utilizada para converter as listas de rótulos em representações binárias multirrótulo.\n",
    "# O método fit_transform() ajusta o MultiLabelBinarizer aos rótulos de classe (y) e retorna a representação binária multirrótulo correspondente.\n",
    "y = MultiLabelBinarizer().fit_transform(y)\n",
    "\n",
    "# O classificador é treinado com os dados de entrada (X) e os rótulos binarizados multirrótulo (y).\n",
    "# Como os rótulos agora estão na forma binária multirrótulo, o classificador está sendo treinado para realizar classificação multirrótulo.\n",
    "# Em seguida, previsões são feitas usando os mesmos dados de entrada.\n",
    "classif.fit(X, y).predict(X)\n"
   ]
  },
  {
   "cell_type": "code",
   "execution_count": null,
   "id": "2d6865e3",
   "metadata": {},
   "outputs": [],
   "source": []
  },
  {
   "cell_type": "markdown",
   "id": "0942b4a5",
   "metadata": {},
   "source": [
    "## Experimentos separando dados de treino e teste"
   ]
  },
  {
   "cell_type": "markdown",
   "id": "2893964c",
   "metadata": {},
   "source": [
    "## Divisão da base para treino e teste"
   ]
  },
  {
   "cell_type": "code",
   "execution_count": 205,
   "id": "6a8ae1e0",
   "metadata": {},
   "outputs": [],
   "source": [
    "from sklearn.datasets import load_digits\n",
    "from sklearn.model_selection import train_test_split\n",
    "from sklearn.svm import SVC\n",
    "from sklearn.neighbors import KNeighborsClassifier\n",
    "from sklearn.tree import DecisionTreeClassifier\n",
    "from sklearn.metrics import accuracy_score, classification_report, confusion_matrix\n",
    "import matplotlib.pyplot as plt\n",
    "import seaborn as sns\n",
    "\n",
    "# Carregando o conjunto de dados \"Digits\"\n",
    "digits = load_digits()\n",
    "\n",
    "# Dividindo o conjunto de dados em dados de treinamento e teste (80% treinamento, 20% teste)\n",
    "X_train, X_test, y_train, y_test = train_test_split(digits.data, digits.target, test_size=0.2, random_state=42)"
   ]
  },
  {
   "cell_type": "code",
   "execution_count": null,
   "id": "10f5c3ee",
   "metadata": {},
   "outputs": [],
   "source": []
  },
  {
   "cell_type": "markdown",
   "id": "d1d65076",
   "metadata": {},
   "source": [
    "## SVM"
   ]
  },
  {
   "cell_type": "code",
   "execution_count": 206,
   "id": "c0f92174",
   "metadata": {},
   "outputs": [
    {
     "name": "stdout",
     "output_type": "stream",
     "text": [
      "Acurácia do SVM: 0.9861111111111112\n",
      "Relatório de Classificação do SVM:\n",
      "               precision    recall  f1-score   support\n",
      "\n",
      "           0       1.00      1.00      1.00        33\n",
      "           1       1.00      1.00      1.00        28\n",
      "           2       1.00      1.00      1.00        33\n",
      "           3       1.00      1.00      1.00        34\n",
      "           4       1.00      1.00      1.00        46\n",
      "           5       0.98      0.98      0.98        47\n",
      "           6       0.97      1.00      0.99        35\n",
      "           7       0.97      0.97      0.97        34\n",
      "           8       1.00      0.97      0.98        30\n",
      "           9       0.95      0.95      0.95        40\n",
      "\n",
      "    accuracy                           0.99       360\n",
      "   macro avg       0.99      0.99      0.99       360\n",
      "weighted avg       0.99      0.99      0.99       360\n",
      "\n",
      "Matriz de Confusão do SVM:\n",
      " [[33  0  0  0  0  0  0  0  0  0]\n",
      " [ 0 28  0  0  0  0  0  0  0  0]\n",
      " [ 0  0 33  0  0  0  0  0  0  0]\n",
      " [ 0  0  0 34  0  0  0  0  0  0]\n",
      " [ 0  0  0  0 46  0  0  0  0  0]\n",
      " [ 0  0  0  0  0 46  1  0  0  0]\n",
      " [ 0  0  0  0  0  0 35  0  0  0]\n",
      " [ 0  0  0  0  0  0  0 33  0  1]\n",
      " [ 0  0  0  0  0  0  0  0 29  1]\n",
      " [ 0  0  0  0  0  1  0  1  0 38]]\n"
     ]
    }
   ],
   "source": [
    "# Inicializando e treinando o modelo SVM\n",
    "svm_model = SVC()\n",
    "svm_model.fit(X_train, y_train)\n",
    "\n",
    "# Fazendo previsões no conjunto de teste e calculando a acurácia\n",
    "svm_predictions = svm_model.predict(X_test)\n",
    "svm_accuracy = accuracy_score(y_test, svm_predictions)\n",
    "\n",
    "# Exibindo a acurácia, o relatório das classificações e a matriz de confusão do modelo SVM\n",
    "print(\"Acurácia do SVM:\", svm_accuracy)\n",
    "print(\"Relatório de Classificação do SVM:\\n\", classification_report(y_test, svm_predictions))\n",
    "print(\"Matriz de Confusão do SVM:\\n\", confusion_matrix(y_test, svm_predictions))"
   ]
  },
  {
   "cell_type": "code",
   "execution_count": 207,
   "id": "d9693450",
   "metadata": {},
   "outputs": [
    {
     "data": {
      "image/png": "[encoded data removed]",
      "text/plain": [
       "<Figure size 500x500 with 1 Axes>"
      ]
     },
     "metadata": {},
     "output_type": "display_data"
    }
   ],
   "source": [
    "# Plotando a matriz de confusão colorida para o modelo SVM\n",
    "svm_cm = confusion_matrix(y_test, svm_predictions)\n",
    "plt.figure(figsize=(5, 5))\n",
    "sns.heatmap(svm_cm, annot=True, cmap='Blues', fmt='g', cbar=False)\n",
    "plt.xlabel('Rótulos Previstos')\n",
    "plt.ylabel('Rótulos Verdadeiros')\n",
    "plt.title('Matriz de Confusão - SVM')\n",
    "plt.savefig('p1_cm_svm.svg', format='svg')\n",
    "plt.show()"
   ]
  },
  {
   "cell_type": "code",
   "execution_count": null,
   "id": "96560908",
   "metadata": {},
   "outputs": [],
   "source": []
  },
  {
   "cell_type": "markdown",
   "id": "16913d59",
   "metadata": {},
   "source": [
    "## KNN"
   ]
  },
  {
   "cell_type": "code",
   "execution_count": 208,
   "id": "51f72c72",
   "metadata": {},
   "outputs": [
    {
     "name": "stdout",
     "output_type": "stream",
     "text": [
      "\n",
      "Acurácia do KNN: 0.9861111111111112\n",
      "Relatório de Classificação do KNN:\n",
      "               precision    recall  f1-score   support\n",
      "\n",
      "           0       1.00      1.00      1.00        33\n",
      "           1       1.00      1.00      1.00        28\n",
      "           2       1.00      1.00      1.00        33\n",
      "           3       1.00      1.00      1.00        34\n",
      "           4       0.98      1.00      0.99        46\n",
      "           5       0.98      0.96      0.97        47\n",
      "           6       0.97      1.00      0.99        35\n",
      "           7       1.00      0.97      0.99        34\n",
      "           8       1.00      1.00      1.00        30\n",
      "           9       0.95      0.95      0.95        40\n",
      "\n",
      "    accuracy                           0.99       360\n",
      "   macro avg       0.99      0.99      0.99       360\n",
      "weighted avg       0.99      0.99      0.99       360\n",
      "\n",
      "Matriz de Confusão do KNN:\n",
      " [[33  0  0  0  0  0  0  0  0  0]\n",
      " [ 0 28  0  0  0  0  0  0  0  0]\n",
      " [ 0  0 33  0  0  0  0  0  0  0]\n",
      " [ 0  0  0 34  0  0  0  0  0  0]\n",
      " [ 0  0  0  0 46  0  0  0  0  0]\n",
      " [ 0  0  0  0  0 45  1  0  0  1]\n",
      " [ 0  0  0  0  0  0 35  0  0  0]\n",
      " [ 0  0  0  0  0  0  0 33  0  1]\n",
      " [ 0  0  0  0  0  0  0  0 30  0]\n",
      " [ 0  0  0  0  1  1  0  0  0 38]]\n"
     ]
    }
   ],
   "source": [
    "# Inicializando e treinando o modelo KNN\n",
    "knn_model = KNeighborsClassifier()\n",
    "knn_model.fit(X_train, y_train)\n",
    "\n",
    "# Fazendo previsões no conjunto de teste e calculando a acurácia\n",
    "knn_predictions = knn_model.predict(X_test)\n",
    "knn_accuracy = accuracy_score(y_test, knn_predictions)\n",
    "\n",
    "# Exibindo a acurácia, o relatório das classificações e a matriz de confusão do modelo KNN\n",
    "print(\"\\nAcurácia do KNN:\", knn_accuracy)\n",
    "print(\"Relatório de Classificação do KNN:\\n\", classification_report(y_test, knn_predictions))\n",
    "print(\"Matriz de Confusão do KNN:\\n\", confusion_matrix(y_test, knn_predictions))\n",
    "\n"
   ]
  },
  {
   "cell_type": "code",
   "execution_count": 209,
   "id": "d11f752f",
   "metadata": {},
   "outputs": [
    {
     "data": {
      "image/png": "[encoded data removed]",
      "text/plain": [
       "<Figure size 500x500 with 1 Axes>"
      ]
     },
     "metadata": {},
     "output_type": "display_data"
    }
   ],
   "source": [
    "knn_cm = confusion_matrix(y_test, knn_predictions)\n",
    "plt.figure(figsize=(5, 5))\n",
    "sns.heatmap(knn_cm, annot=True, cmap='Greens', fmt='g', cbar=False)\n",
    "plt.xlabel('Rótulos Previstos')\n",
    "plt.ylabel('Rótulos Verdadeiros')\n",
    "plt.title('Matriz de Confusão - KNN')\n",
    "plt.savefig('p1_cm_knn.svg', format='svg')\n",
    "plt.show()"
   ]
  },
  {
   "cell_type": "code",
   "execution_count": null,
   "id": "c2a0090b",
   "metadata": {},
   "outputs": [],
   "source": []
  },
  {
   "cell_type": "markdown",
   "id": "6954382f",
   "metadata": {},
   "source": [
    "# DECISION TREE"
   ]
  },
  {
   "cell_type": "code",
   "execution_count": 213,
   "id": "4824764f",
   "metadata": {},
   "outputs": [
    {
     "name": "stdout",
     "output_type": "stream",
     "text": [
      "Acurácia do Decision Tree: 0.8527777777777777\n",
      "Relatório de Classificação do Decision Tree:\n",
      "               precision    recall  f1-score   support\n",
      "\n",
      "           0       0.97      0.88      0.92        33\n",
      "           1       0.92      0.79      0.85        28\n",
      "           2       0.81      0.76      0.78        33\n",
      "           3       0.76      0.82      0.79        34\n",
      "           4       0.82      0.89      0.85        46\n",
      "           5       0.92      0.94      0.93        47\n",
      "           6       0.82      0.91      0.86        35\n",
      "           7       0.88      0.88      0.88        34\n",
      "           8       0.78      0.70      0.74        30\n",
      "           9       0.88      0.88      0.88        40\n",
      "\n",
      "    accuracy                           0.85       360\n",
      "   macro avg       0.85      0.84      0.85       360\n",
      "weighted avg       0.85      0.85      0.85       360\n",
      "\n"
     ]
    }
   ],
   "source": [
    "# Inicializando e treinando o modelo Decision Tree\n",
    "dt_model = DecisionTreeClassifier()\n",
    "dt_model.fit(X_train, y_train)\n",
    "\n",
    "# Fazendo previsões no conjunto de teste e calculando a acurácia\n",
    "dt_predictions = dt_model.predict(X_test)\n",
    "dt_accuracy = accuracy_score(y_test, dt_predictions)\n",
    "\n",
    "# Exibindo a acurácia, o relatório das classificações e a matriz de confusão do modelo Decision Tree\n",
    "print(\"Acurácia do Decision Tree:\", dt_accuracy)\n",
    "print(\"Relatório de Classificação do Decision Tree:\\n\", classification_report(y_test, dt_predictions))"
   ]
  },
  {
   "cell_type": "code",
   "execution_count": 214,
   "id": "b437ce3f",
   "metadata": {},
   "outputs": [
    {
     "data": {
      "image/png": "[encoded data removed]",
      "text/plain": [
       "<Figure size 500x500 with 1 Axes>"
      ]
     },
     "metadata": {},
     "output_type": "display_data"
    }
   ],
   "source": [
    "# Plotando a matriz de confusão colorida para o modelo Decision Tree\n",
    "dt_cm = confusion_matrix(y_test, dt_predictions)\n",
    "plt.figure(figsize=(5, 5))\n",
    "sns.heatmap(dt_cm, annot=True, cmap='Oranges', fmt='g', cbar=False)\n",
    "plt.xlabel('Rótulos Previstos')\n",
    "plt.ylabel('Rótulos Verdadeiros')\n",
    "plt.title('Matriz de Confusão - Decision Tree')\n",
    "plt.savefig('p1_cm_decision_tree.svg', format='svg')\n",
    "plt.show()\n"
   ]
  },
  {
   "cell_type": "code",
   "execution_count": null,
   "id": "3f3678e1",
   "metadata": {},
   "outputs": [],
   "source": []
  }
 ],
 "metadata": {
  "kernelspec": {
   "display_name": "Python 3 (ipykernel)",
   "language": "python",
   "name": "python3"
  },
  "language_info": {
   "codemirror_mode": {
    "name": "ipython",
    "version": 3
   },
   "file_extension": ".py",
   "mimetype": "text/x-python",
   "name": "python",
   "nbconvert_exporter": "python",
   "pygments_lexer": "ipython3",
   "version": "3.11.5"
  }
 },
 "nbformat": 4,
 "nbformat_minor": 5
}
